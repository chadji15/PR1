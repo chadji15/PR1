{
 "cells": [
  {
   "cell_type": "markdown",
   "id": "59a4d511",
   "metadata": {},
   "source": [
    "# <p style=\"text-align:center\"> <span style=\"color:blue\">[WMCS011-05] Pattern Recognition (for CS) 2022-2023 </span></p>\n",
    "\n",
    "## <p style=\"text-align:center\"> 1st practical: Iris recognition \\& Image matching using SIFT</p>"
   ]
  },
  {
   "cell_type": "markdown",
   "id": "59a4d511",
   "metadata": {},
   "source": [
    "# <p style=\"text-align:center\"> <span style=\"color:blue\">[WMCS011-05] Pattern Recognition (for CS) 2022-2023 </span></p>\n",
    "\n",
    "## <p style=\"text-align:center\"> 1st practical: Iris recognition \\& Image matching using SIFT</p>"
   ]
  },
  {
   "cell_type": "markdown",
   "id": "dade6595",
   "metadata": {},
   "source": [
    "### $$ \\text{Group 21} $$\n",
    "### $$ \\text{Chris Hadjicristodoulou}  \\quad \\& \\quad \\text{Herman Lassche}  $$"
   ]
  },
  {
   "cell_type": "markdown",
   "id": "e3d22527",
   "metadata": {},
   "source": [
    "## **Information and instructions**\n",
    "*   <span style=\"color:red\">**DEADLINE**</span>  Tuesday 6 December 2022 **before** 23:59PM. Hand in this file *containing your code and answers added* through Brightspace.\n",
    "*   This is a group assignment (should be done in pairs). \n",
    "*  Insert a Markdown cell (where needed) and add the formulas you used to answer a question, as well as a short description of how you came up with your solution.\n",
    "*   Some exercises ask you to find a specific value or expression or ask you for an interpretation. Insert a Markdown cell and provide your answers briefly.\n",
    "* Make sure to include all the necessary print statements and remove the extra ones that were only used for testing your implementation. \n",
    "*   Please ensure that all your figures are properly labeled with title, axis labels, and legend if you plot multiple curves in one graph.\n",
    "*   Structure your code using comments and separate code cells where necessary, and be sure to indicate which part of your code belongs to which question.\n",
    "*   To test your code, we will run all your code cells from scratch - so make sure all results can be reproduced!\n",
    "* For any questions, you can contact us at [pr2022rug@gmail.com](pr2022rug@gmail.com)."
   ]
  },
  {
   "cell_type": "markdown",
   "id": "8ce09c52",
   "metadata": {},
   "source": [
    "## Table of Contents\n",
    "* [Exercise 1 - Person authentication by binary iris pattern (50pt)](#chapter1)\n",
    "    * [Part 1 - Distribution of authentics and imposters](#section_1_1)\n",
    "    * [Part 2 - Person authentication](#section_1_2)\n",
    "* [Exercise 2 - Image matching using SIFT (50 pt)](#chapter2)\n",
    "* [Contributions](#chapter3)"
   ]
  },
  {
   "cell_type": "code",
   "execution_count": 1,
   "id": "927afd94",
   "metadata": {},
   "outputs": [],
   "source": [
    "# Import libraries\n",
    "import scipy.io\n",
    "import random\n",
    "import math\n",
    "import numpy as np\n",
    "import matplotlib.pyplot as plt\n",
    "from scipy.stats import norm\n"
   ]
  },
  {
   "cell_type": "markdown",
   "id": "cd7e8030",
   "metadata": {},
   "source": [
    "# <span style=\"color:blue\">Exercise 1 - Person authentication by binary iris pattern (50pt)  <a class=\"anchor\" id=\"chapter1\"></a></span>\n",
    "\n",
    "\n",
    "On Brightspace, you will find the file **lab1-data_Irisrecognition.zip**, which contains the iris codes of different persons. The file named $\\textit{person01.mat}$ to $ \\textit{person20.mat}$ contains a two-dimensional binary array of 20 rows, in which each row is a 30-dimensional binary iris code extracted from an iris image of a person. If you take a closer look at the rows of one such array, you will notice that two rows can differ in only a few positions (bits); If you compare two rows that come from two different files $person[i]$ and $ person[j]$, you will notice that two such iris codes differ in about 15 positions."
   ]
  },
  {
   "cell_type": "markdown",
   "id": "6141883e",
   "metadata": {},
   "source": [
    "## Part 1 - Distribution of authentics and imposters (20pt) <a class=\"anchor\" id=\"section_1_1\"></a></span>\n"
   ]
  },
  {
   "cell_type": "markdown",
   "id": "13fad0bf",
   "metadata": {},
   "source": [
    "Compute two sets S and D of 10000 normalized Hamming Distance (HD) as follows:\n",
    "\n",
    "<ol>\n",
    "<li> <b> For set S: </b> Choose randomly one person and randomly two iris codes (rows) from that person. Compute the normalized HD of the iris codes from these two rows. Repeat this process 10000 times to obtain 10000 such normalized HD values. </li>\n",
    "<br>\n",
    "\n",
    "<li> <b>For set D: </b> Choose randomly two different persons and randomly one row from each of these two persons. Compute the normalized HD of these two iris codes from these two different persons. Repeat this process 10000 times to obtain 10000 such normalized HD values. </li>\n",
    "\n",
    "</ol>"
   ]
  },
  {
   "cell_type": "markdown",
   "id": "4cd68806",
   "metadata": {},
   "source": [
    "<span style=\"color:blue\"> **(10 pt) (A)** </span> **Plot the histograms of Set S and D in one figure with different colors. Make sure to use bins of the same size for the two histograms and to use an appropriate number of bins.**\n",
    "\n",
    "<hr>"
   ]
  },
  {
   "cell_type": "code",
   "execution_count": 2,
   "id": "c6cb76e1",
   "metadata": {},
   "outputs": [
    {
     "ename": "FileNotFoundError",
     "evalue": "[Errno 2] No such file or directory: 'data/person09.mat'",
     "output_type": "error",
     "traceback": [
      "\u001b[1;31m---------------------------------------------------------------------------\u001b[0m",
      "\u001b[1;31mFileNotFoundError\u001b[0m                         Traceback (most recent call last)",
      "File \u001b[1;32m~\\AppData\\Local\\Packages\\PythonSoftwareFoundation.Python.3.9_qbz5n2kfra8p0\\LocalCache\\local-packages\\Python39\\site-packages\\scipy\\io\\matlab\\_mio.py:39\u001b[0m, in \u001b[0;36m_open_file\u001b[1;34m(file_like, appendmat, mode)\u001b[0m\n\u001b[0;32m     38\u001b[0m \u001b[39mtry\u001b[39;00m:\n\u001b[1;32m---> 39\u001b[0m     \u001b[39mreturn\u001b[39;00m \u001b[39mopen\u001b[39;49m(file_like, mode), \u001b[39mTrue\u001b[39;00m\n\u001b[0;32m     40\u001b[0m \u001b[39mexcept\u001b[39;00m \u001b[39mOSError\u001b[39;00m \u001b[39mas\u001b[39;00m e:\n\u001b[0;32m     41\u001b[0m     \u001b[39m# Probably \"not found\"\u001b[39;00m\n",
      "\u001b[1;31mFileNotFoundError\u001b[0m: [Errno 2] No such file or directory: 'data/person09.mat'",
      "\nDuring handling of the above exception, another exception occurred:\n",
      "\u001b[1;31mFileNotFoundError\u001b[0m                         Traceback (most recent call last)",
      "Cell \u001b[1;32mIn [2], line 12\u001b[0m\n\u001b[0;32m      9\u001b[0m N \u001b[39m=\u001b[39m \u001b[39m10000\u001b[39m\n\u001b[0;32m     11\u001b[0m \u001b[39mfor\u001b[39;00m _ \u001b[39min\u001b[39;00m \u001b[39mrange\u001b[39m(N):\n\u001b[1;32m---> 12\u001b[0m     mat \u001b[39m=\u001b[39m np\u001b[39m.\u001b[39marray(scipy\u001b[39m.\u001b[39;49mio\u001b[39m.\u001b[39;49mloadmat(\u001b[39m'\u001b[39;49m\u001b[39mdata/person\u001b[39;49m\u001b[39m'\u001b[39;49m \u001b[39m+\u001b[39;49m twoDigits(random\u001b[39m.\u001b[39;49mrandint(\u001b[39m1\u001b[39;49m,\u001b[39m20\u001b[39;49m)) \u001b[39m+\u001b[39;49m \u001b[39m'\u001b[39;49m\u001b[39m.mat\u001b[39;49m\u001b[39m'\u001b[39;49m)[\u001b[39m'\u001b[39m\u001b[39miriscode\u001b[39m\u001b[39m'\u001b[39m])\n\u001b[0;32m     13\u001b[0m     setS\u001b[39m.\u001b[39mappend(normalizedHD(mat[random\u001b[39m.\u001b[39mrandint(\u001b[39m0\u001b[39m,\u001b[39m19\u001b[39m)], mat[random\u001b[39m.\u001b[39mrandint(\u001b[39m0\u001b[39m,\u001b[39m19\u001b[39m)])) \u001b[39m#Assumed that the codes may be the same\u001b[39;00m\n",
      "File \u001b[1;32m~\\AppData\\Local\\Packages\\PythonSoftwareFoundation.Python.3.9_qbz5n2kfra8p0\\LocalCache\\local-packages\\Python39\\site-packages\\scipy\\io\\matlab\\_mio.py:224\u001b[0m, in \u001b[0;36mloadmat\u001b[1;34m(file_name, mdict, appendmat, **kwargs)\u001b[0m\n\u001b[0;32m     87\u001b[0m \u001b[39m\"\"\"\u001b[39;00m\n\u001b[0;32m     88\u001b[0m \u001b[39mLoad MATLAB file.\u001b[39;00m\n\u001b[0;32m     89\u001b[0m \n\u001b[1;32m   (...)\u001b[0m\n\u001b[0;32m    221\u001b[0m \u001b[39m    3.14159265+3.14159265j])\u001b[39;00m\n\u001b[0;32m    222\u001b[0m \u001b[39m\"\"\"\u001b[39;00m\n\u001b[0;32m    223\u001b[0m variable_names \u001b[39m=\u001b[39m kwargs\u001b[39m.\u001b[39mpop(\u001b[39m'\u001b[39m\u001b[39mvariable_names\u001b[39m\u001b[39m'\u001b[39m, \u001b[39mNone\u001b[39;00m)\n\u001b[1;32m--> 224\u001b[0m \u001b[39mwith\u001b[39;00m _open_file_context(file_name, appendmat) \u001b[39mas\u001b[39;00m f:\n\u001b[0;32m    225\u001b[0m     MR, _ \u001b[39m=\u001b[39m mat_reader_factory(f, \u001b[39m*\u001b[39m\u001b[39m*\u001b[39mkwargs)\n\u001b[0;32m    226\u001b[0m     matfile_dict \u001b[39m=\u001b[39m MR\u001b[39m.\u001b[39mget_variables(variable_names)\n",
      "File \u001b[1;32mC:\\Program Files\\WindowsApps\\PythonSoftwareFoundation.Python.3.9_3.9.3568.0_x64__qbz5n2kfra8p0\\lib\\contextlib.py:119\u001b[0m, in \u001b[0;36m_GeneratorContextManager.__enter__\u001b[1;34m(self)\u001b[0m\n\u001b[0;32m    117\u001b[0m \u001b[39mdel\u001b[39;00m \u001b[39mself\u001b[39m\u001b[39m.\u001b[39margs, \u001b[39mself\u001b[39m\u001b[39m.\u001b[39mkwds, \u001b[39mself\u001b[39m\u001b[39m.\u001b[39mfunc\n\u001b[0;32m    118\u001b[0m \u001b[39mtry\u001b[39;00m:\n\u001b[1;32m--> 119\u001b[0m     \u001b[39mreturn\u001b[39;00m \u001b[39mnext\u001b[39;49m(\u001b[39mself\u001b[39;49m\u001b[39m.\u001b[39;49mgen)\n\u001b[0;32m    120\u001b[0m \u001b[39mexcept\u001b[39;00m \u001b[39mStopIteration\u001b[39;00m:\n\u001b[0;32m    121\u001b[0m     \u001b[39mraise\u001b[39;00m \u001b[39mRuntimeError\u001b[39;00m(\u001b[39m\"\u001b[39m\u001b[39mgenerator didn\u001b[39m\u001b[39m'\u001b[39m\u001b[39mt yield\u001b[39m\u001b[39m\"\u001b[39m) \u001b[39mfrom\u001b[39;00m \u001b[39mNone\u001b[39m\n",
      "File \u001b[1;32m~\\AppData\\Local\\Packages\\PythonSoftwareFoundation.Python.3.9_qbz5n2kfra8p0\\LocalCache\\local-packages\\Python39\\site-packages\\scipy\\io\\matlab\\_mio.py:17\u001b[0m, in \u001b[0;36m_open_file_context\u001b[1;34m(file_like, appendmat, mode)\u001b[0m\n\u001b[0;32m     15\u001b[0m \u001b[39m@contextmanager\u001b[39m\n\u001b[0;32m     16\u001b[0m \u001b[39mdef\u001b[39;00m \u001b[39m_open_file_context\u001b[39m(file_like, appendmat, mode\u001b[39m=\u001b[39m\u001b[39m'\u001b[39m\u001b[39mrb\u001b[39m\u001b[39m'\u001b[39m):\n\u001b[1;32m---> 17\u001b[0m     f, opened \u001b[39m=\u001b[39m _open_file(file_like, appendmat, mode)\n\u001b[0;32m     18\u001b[0m     \u001b[39mtry\u001b[39;00m:\n\u001b[0;32m     19\u001b[0m         \u001b[39myield\u001b[39;00m f\n",
      "File \u001b[1;32m~\\AppData\\Local\\Packages\\PythonSoftwareFoundation.Python.3.9_qbz5n2kfra8p0\\LocalCache\\local-packages\\Python39\\site-packages\\scipy\\io\\matlab\\_mio.py:45\u001b[0m, in \u001b[0;36m_open_file\u001b[1;34m(file_like, appendmat, mode)\u001b[0m\n\u001b[0;32m     43\u001b[0m     \u001b[39mif\u001b[39;00m appendmat \u001b[39mand\u001b[39;00m \u001b[39mnot\u001b[39;00m file_like\u001b[39m.\u001b[39mendswith(\u001b[39m'\u001b[39m\u001b[39m.mat\u001b[39m\u001b[39m'\u001b[39m):\n\u001b[0;32m     44\u001b[0m         file_like \u001b[39m+\u001b[39m\u001b[39m=\u001b[39m \u001b[39m'\u001b[39m\u001b[39m.mat\u001b[39m\u001b[39m'\u001b[39m\n\u001b[1;32m---> 45\u001b[0m     \u001b[39mreturn\u001b[39;00m \u001b[39mopen\u001b[39;49m(file_like, mode), \u001b[39mTrue\u001b[39;00m\n\u001b[0;32m     46\u001b[0m \u001b[39melse\u001b[39;00m:\n\u001b[0;32m     47\u001b[0m     \u001b[39mraise\u001b[39;00m \u001b[39mOSError\u001b[39;00m(\n\u001b[0;32m     48\u001b[0m         \u001b[39m'\u001b[39m\u001b[39mReader needs file name or open file-like object\u001b[39m\u001b[39m'\u001b[39m\n\u001b[0;32m     49\u001b[0m     ) \u001b[39mfrom\u001b[39;00m \u001b[39me\u001b[39;00m\n",
      "\u001b[1;31mFileNotFoundError\u001b[0m: [Errno 2] No such file or directory: 'data/person09.mat'"
     ]
    }
   ],
   "source": [
    "# Compute Set S...\n",
    "def twoDigits(a):\n",
    "    return str(a) if a > 9 else str('0' + str(a)) \n",
    "\n",
    "def normalizedHD(a,b):\n",
    "    return (np.sum(np.bitwise_xor(a,b)))/len(a)\n",
    "\n",
    "setS = []\n",
    "N = 10000\n",
    "\n",
    "for _ in range(N):\n",
    "    mat = np.array(scipy.io.loadmat('data/person' + twoDigits(random.randint(1,20)) + '.mat')['iriscode'])\n",
    "    setS.append(normalizedHD(mat[random.randint(0,19)], mat[random.randint(0,19)])) #Assumed that the codes may be the same"
   ]
  },
  {
   "cell_type": "code",
   "execution_count": null,
   "id": "996b939f",
   "metadata": {},
   "outputs": [],
   "source": [
    "# Compute set D...\n",
    "setD = []\n",
    "\n",
    "for _ in range(N):\n",
    "    persons = random.sample(range(1,20),2)\n",
    "    mat_0 = np.array(scipy.io.loadmat('data/person' + twoDigits(persons[0]) + '.mat')['iriscode'])\n",
    "    mat_1 = np.array(scipy.io.loadmat('data/person' + twoDigits(persons[1]) + '.mat')['iriscode'])\n",
    "    setD.append(normalizedHD(mat_0[random.randint(0,19)], mat_1[random.randint(0,19)]))"
   ]
  },
  {
   "cell_type": "code",
   "execution_count": null,
   "id": "6d12c75d",
   "metadata": {},
   "outputs": [
    {
     "data": {
      "image/png": "[encoded data removed]",
      "text/plain": [
       "<Figure size 640x480 with 1 Axes>"
      ]
     },
     "metadata": {},
     "output_type": "display_data"
    }
   ],
   "source": [
    "# Plot histograms of Set S and D...\n",
    "n_bins = 40\n",
    "bins = np.linspace(0,0.8,n_bins) #Makes a clear image of the most important parts, creates nice clustered bars: not to small, but the difference is still clearly visible\n",
    "plt.hist(setS, bins, alpha=0.5, color='g', label='Same person (set S)')\n",
    "plt.hist(setD, bins, alpha=0.5, color='r', label='Different person (set D)')\n",
    "plt.legend(loc='upper right')\n",
    "plt.tight_layout()\n",
    "plt.show()"
   ]
  },
  {
   "cell_type": "markdown",
   "id": "a74cdc54",
   "metadata": {},
   "source": [
    "<span style=\"color:blue\">  **(5 pt) (B)** </span> **Compute the mean and the variance of the set S and D and specify their values.**\n",
    "\n",
    "<hr>"
   ]
  },
  {
   "cell_type": "code",
   "execution_count": null,
   "id": "46887817",
   "metadata": {},
   "outputs": [],
   "source": [
    "# Compute mean and variance...\n",
    "setS_mean = np.mean(setS)\n",
    "setS_var = np.var(setS)\n",
    "\n",
    "setD_mean = np.mean(setD)\n",
    "setD_var = np.var(setD)"
   ]
  },
  {
   "cell_type": "markdown",
   "id": "ed10042b",
   "metadata": {},
   "source": [
    "<span style=\"color:blue\">  **(5 pt) (C)** </span> **Draw the normal distributions (Gaussian functions), that correspond to the means and variances calculated above, to the histograms of Set S and D. Find an appropriate way to scale the normal distribution curves so that they fit well the histograms.**\n",
    "\n",
    "<hr>"
   ]
  },
  {
   "cell_type": "code",
   "execution_count": null,
   "id": "e06d0adb",
   "metadata": {},
   "outputs": [
    {
     "data": {
      "image/png": "[encoded data removed]",
      "text/plain": [
       "<Figure size 640x480 with 1 Axes>"
      ]
     },
     "metadata": {},
     "output_type": "display_data"
    }
   ],
   "source": [
    "# Plot the distributions...\n",
    "plt.hist(setS, bins, alpha=0.5, color='g', label='Same person (set S)')\n",
    "plt.hist(setD, bins, alpha=0.5, color='r', label='Different person (set D)')\n",
    "plt.legend(loc='upper right')\n",
    "plt.tight_layout()\n",
    "\n",
    "scale = N/n_bins #The number of samples N and the number of bins are considered. Those give a good scalar. Since if N is lower, the bars are lower. If the number of bins are smaller, the bars are larger. The gaussian distribution scales the normalized version of the samples.     \n",
    "x = np.arange(start=0, stop=0.8, step=0.02)\n",
    "setS_y = scale*(1/math.sqrt(2*math.pi*setS_var))*np.exp(-(np.power(x-setS_mean,2))/(2*setS_var)) #The formula introduced in the lecutre, multiplied by the scalar\n",
    "setD_y = scale*(1/math.sqrt(2*math.pi*setD_var))*np.exp(-(np.power(x-setD_mean,2))/(2*setD_var)) \n",
    "plt.plot(x, setS_y)\n",
    "plt.plot(x, setD_y)\n",
    "plt.show()"
   ]
  },
  {
   "cell_type": "markdown",
   "id": "9ff36bfb",
   "metadata": {},
   "source": [
    "## Part 2 - Person authentication (30pt) <a class=\"anchor\" id=\"section_1_2\"></a></span>\n"
   ]
  },
  {
   "cell_type": "markdown",
   "id": "e41f01d6",
   "metadata": {},
   "source": [
    "The distribution associated with the set S is the class-conditional probability density function that we measure a given HD value for two iris codes of the same person. The distribution associated with the set D is the class-conditional probability density function that we measure a given HD value for two iris codes of two different persons.\n",
    "\n",
    "Our Null-hypothesis $\\textit{H0}$ is that two iris patterns are different. We choose a value\n",
    "for the decision criterion $\\textit{d}$ and compare the HD of two iris patterns to d. If $ \\textit{HD > d}$, we consider this as confirmation of our assumption that the two iris codes are different; If $\\textit{HD < d}$, we consider our assumption that the two iris codes are different is not confirmed, i.e., implicitly we accept that they come from the same person."
   ]
  },
  {
   "cell_type": "markdown",
   "id": "28fe7985",
   "metadata": {},
   "source": [
    "<span style=\"color:blue\">  **(5 pt) (A)** </span> **Estimate the value of the decision criterion d for which the probability of accepting an imposter is 0.0005. This situation will occur when the HD between the iris codes of two different persons is smaller than the decision criterion d. You can use the python function $scipy.stats.norm.ppf$ to find such decision criterion.**\n",
    "\n",
    "<hr>"
   ]
  },
  {
   "cell_type": "code",
   "execution_count": null,
   "id": "43c257df",
   "metadata": {},
   "outputs": [
    {
     "name": "stdout",
     "output_type": "stream",
     "text": [
      "Estimation of decision criterion d: 0.20237254338407185\n"
     ]
    }
   ],
   "source": [
    "# Estimate the decision criterion d...\n",
    "d = scipy.stats.norm.ppf(0.0005, setD_mean, math.sqrt(setD_var)) #Gives reasonable outcomes, when looking at the plots (around 0.2). Right there is a split in the distributions.\n",
    "print('Estimation of decision criterion d: ' + str(d))"
   ]
  },
  {
   "cell_type": "markdown",
   "id": "b1dd9092",
   "metadata": {},
   "source": [
    "<span style=\"color:blue\">  **(5 pt) (B)** </span> **For the value of the decision criterion calculated above, determine the probability of rejecting an authentic person. For this purpose, use a normal distribution to model Set S and find the value of the integral in the tail of this distribution for values HD > d. You can use the python function $scipy.stats.norm.cdf$ to compute such a probability.**\n",
    "\n",
    "<hr>"
   ]
  },
  {
   "cell_type": "code",
   "execution_count": null,
   "id": "5251c582",
   "metadata": {},
   "outputs": [
    {
     "name": "stdout",
     "output_type": "stream",
     "text": [
      "Probability of rejecting an authentic person: 0.0025605779890762737\n"
     ]
    }
   ],
   "source": [
    "# Determine the probability of...\n",
    "prob = 1 - scipy.stats.norm.cdf(d, setS_mean, math.sqrt(setS_var))\n",
    "print('Probability of rejecting an authentic person: ' + str(prob))"
   ]
  },
  {
   "cell_type": "markdown",
   "id": "5ae240a8",
   "metadata": {},
   "source": [
    "<span style=\"color:blue\">  **(15 pt) (C)** </span> **Consider the iris code given in the file $\\textit{testperson.mat}$. This file contains an iris code with some missing bits. These missing bits have the value 2 instead of 0 or 1. To which of the 20 persons whose iris codes are stored in files $person01.mat$ to $person20.mat$ does this iris code most likely belong to?**\n",
    "\n",
    "<hr>"
   ]
  },
  {
   "cell_type": "code",
   "execution_count": null,
   "id": "4c549a4a",
   "metadata": {},
   "outputs": [
    {
     "name": "stdout",
     "output_type": "stream",
     "text": [
      "The lowest HD belongs to person 05. Therefore it is most probably a scan of this person, with criterium: 0.027500000000000004. It also is the only scan that is lower than the decision criterium( Number of HD lower than d: 1).\n"
     ]
    }
   ],
   "source": [
    "def createMask(b):\n",
    "     a = np.array(b, copy=True)\n",
    "     a[a == 1] = 1\n",
    "     a[a == 0] = 1\n",
    "     a[a == 2] = 0\n",
    "     return a\n",
    "\n",
    "def normalizedHDmissing(a,b,maskA, maskB):\n",
    "     return (np.sum(np.bitwise_and(np.bitwise_and(np.bitwise_xor(a,b), maskA), maskB)))/np.sum(np.bitwise_and(maskA,maskB))\n",
    "     #Using the formula introduced in the lecture\n",
    "\n",
    "test = np.array(scipy.io.loadmat('data/testperson.mat')['iriscode'])\n",
    "masktest = createMask(test) #Create mask\n",
    "HD_test = []\n",
    "HD_test_crit = []\n",
    "for i in range(20): #Calculate hamming distance of all scans of all persons with the test person\n",
    "    mat = np.array(scipy.io.loadmat('data/person' + twoDigits(i+1) + '.mat')['iriscode'])\n",
    "    temp = []\n",
    "    for j in range(20):\n",
    "          temp.append(normalizedHDmissing(mat[j],test,[1]*30,masktest)) #Data of other scans are all good so: [1....1]\n",
    "    HD_test.append(np.mean(temp))\n",
    "    if HD_test[i] < d:\n",
    "          HD_test_crit.append(i) \n",
    "\n",
    "best = np.argmin(HD_test)\n",
    "print('The lowest HD belongs to person ' + str(twoDigits(best+1)) + '. Therefore it is most probably a scan of this person, with criterium: ' \n",
    "     + str(HD_test[best]) + '. It also is the only scan that is lower than the decision criterium (Number of HD lower than d: ' + str(len(HD_test_crit)) + ').' )\n",
    "\n"
   ]
  },
  {
   "cell_type": "markdown",
   "id": "46d8b8be",
   "metadata": {},
   "source": [
    "<span style=\"color:blue\"> **(5 pt) (D)** </span> **What is the significance level of your decision? $Hint:$ Excluding the bits with a value of 2, denote by HDt the normalized Hamming distance between the iris code of the test person and the iris code of the person that you identified in the data set. The significance level which corresponds to HDt is defined as the probability that the comparison of the iris code of the test person with the iris code of a different person will result in a HD such that HD ≤ HDt, i.e., the concerned significance level is equal to the integral of the tail of the distribution for HD ≤ HDt. To compute its value, make use of the theoretical expression for the parameters of the normal distribution of the normalized iris code HD for the given number of available (i.e., non-missing) bits.**\n",
    "\n",
    "\n",
    "<hr>"
   ]
  },
  {
   "cell_type": "code",
   "execution_count": null,
   "id": "2e7d49f1",
   "metadata": {},
   "outputs": [
    {
     "name": "stdout",
     "output_type": "stream",
     "text": [
      "Probability of accepting another person: 0.00011184919599257469\n"
     ]
    }
   ],
   "source": [
    "delBits = np.where(test == 2)\n",
    "test = np.delete(test, delBits[1], 1)\n",
    "idP = np.array(scipy.io.loadmat('data/person' + twoDigits(best+1) + '.mat')['iriscode'])\n",
    "idP_mean = []\n",
    "\n",
    "for i in range(20):\n",
    "    a = idP[i]\n",
    "    a = np.delete(a, delBits[1], 0)\n",
    "    idP_mean.append(normalizedHD(a, test))\n",
    "HDt = np.mean(idP_mean)\n",
    "\n",
    "setHD = []\n",
    "for i in range(20): #Calculate normalized hamming distance of all scans (excluding missing bits) of all persons with the test person\n",
    "    if i == best:\n",
    "        continue\n",
    "    mat = np.array(scipy.io.loadmat('data/person' + twoDigits(i+1) + '.mat')['iriscode'])\n",
    "    for j in range(20):\n",
    "            a = mat[j]\n",
    "            a = np.delete(a, delBits[1], 0)\n",
    "            setHD.append(normalizedHD(a, test))\n",
    "\n",
    "prob = scipy.stats.norm.cdf(HDt, np.mean(setHD), math.sqrt(np.var(setHD)))\n",
    "print('Probability of accepting another person: ' + str(prob))\n",
    "    \n",
    "\n",
    "\n"
   ]
  },
  {
   "cell_type": "markdown",
   "id": "c4424bf7",
   "metadata": {},
   "source": [
    "<hr>"
   ]
  },
  {
   "cell_type": "markdown",
   "id": "9e2eb844",
   "metadata": {},
   "source": [
    "# <span style=\"color:blue\">Exercise 2 - Image matching using SIFT (50pt)  <a class=\"anchor\" id=\"chapter2\"></a></span>"
   ]
  },
  {
   "cell_type": "markdown",
   "id": "d1f2dfbc",
   "metadata": {},
   "source": [
    "You are given two images named $a.jpg$ and $b.jpg$ that contain the same scene taken from different views. Use SIFT algorithm to identify key points in both the images and perform image matching based on the obtained descriptors."
   ]
  },
  {
   "cell_type": "markdown",
   "id": "c90d0e80",
   "metadata": {},
   "source": [
    "<span style=\"color:blue\"> **(10 pt) (A)** </span> **Describe briefly how the SIFT and SURF algorithms work.**\n",
    "\n",
    "<hr>"
   ]
  },
  {
   "cell_type": "markdown",
   "id": "9014a95b",
   "metadata": {},
   "source": [
    "\n",
    "\n",
    "\n"
   ]
  },
  {
   "cell_type": "markdown",
   "id": "c34f350c",
   "metadata": {},
   "source": [
    "\n",
    "\n"
   ]
  },
  {
   "cell_type": "markdown",
   "id": "13bce00f",
   "metadata": {},
   "source": [
    "<span style=\"color:blue\"> **(10 pt) (B)** </span>  **Display the two images and the corresponding key points identified by SIFT detector. You can use the built-in functions from $opencv$ to get and display the key points.**\n",
    "\n",
    "<hr>"
   ]
  },
  {
   "cell_type": "code",
   "execution_count": null,
   "id": "28bc3022",
   "metadata": {},
   "outputs": [],
   "source": [
    "\n",
    "\n"
   ]
  },
  {
   "cell_type": "markdown",
   "id": "e1c89db3",
   "metadata": {},
   "source": [
    "<span style=\"color:blue\"> **(30 pt) (C)** </span> **Match the obtained descriptors in the two images and display the results that draw lines between the matched descriptors from the two images. You can use the built-in functions from $opencv$ to get and display the results for image matching.**\n",
    "\n",
    "<hr>"
   ]
  },
  {
   "cell_type": "code",
   "execution_count": null,
   "id": "139ecf43",
   "metadata": {},
   "outputs": [],
   "source": [
    "\n",
    "\n",
    "\n"
   ]
  },
  {
   "cell_type": "markdown",
   "id": "ce2ec400",
   "metadata": {},
   "source": [
    "# <span style=\"color:blue\">Contributions<a class=\"anchor\" id=\"chapter3\"></a></span>"
   ]
  },
  {
   "cell_type": "markdown",
   "id": "8ea834fc",
   "metadata": {},
   "source": [
    "We divided the work based on the excersises. \n",
    "Chris did excersise 2 and Herman did excersise 1. \n",
    "Further, we helped each other out when struggles were faced.\n",
    "\n",
    "\n"
   ]
  },
  {
   "cell_type": "markdown",
   "id": "dade6595",
   "metadata": {},
   "source": [
    "### $$ \\text{Group X} $$\n",
    "### $$ \\text{Student 1}  \\quad \\& \\quad \\text{Student 2}  $$"
   ]
  },
  {
   "cell_type": "markdown",
   "id": "e3d22527",
   "metadata": {},
   "source": [
    "## **Information and instructions**\n",
    "*   <span style=\"color:red\">**DEADLINE**</span>  Tuesday 6 December 2022 **before** 23:59PM. Hand in this file *containing your code and answers added* through Brightspace.\n",
    "*   This is a group assignment (should be done in pairs). \n",
    "*  Insert a Markdown cell (where needed) and add the formulas you used to answer a question, as well as a short description of how you came up with your solution.\n",
    "*   Some exercises ask you to find a specific value or expression or ask you for an interpretation. Insert a Markdown cell and provide your answers briefly.\n",
    "* Make sure to include all the necessary print statements and remove the extra ones that were only used for testing your implementation. \n",
    "*   Please ensure that all your figures are properly labeled with title, axis labels, and legend if you plot multiple curves in one graph.\n",
    "*   Structure your code using comments and separate code cells where necessary, and be sure to indicate which part of your code belongs to which question.\n",
    "*   To test your code, we will run all your code cells from scratch - so make sure all results can be reproduced!\n",
    "* For any questions, you can contact us at [pr2022rug@gmail.com](pr2022rug@gmail.com)."
   ]
  },
  {
   "cell_type": "markdown",
   "id": "8ce09c52",
   "metadata": {},
   "source": [
    "## Table of Contents\n",
    "* [Exercise 1 - Person authentication by binary iris pattern (50pt)](#chapter1)\n",
    "    * [Part 1 - Distribution of authentics and imposters](#section_1_1)\n",
    "    * [Part 2 - Person authentication](#section_1_2)\n",
    "* [Exercise 2 - Image matching using SIFT (50 pt)](#chapter2)\n",
    "* [Contributions](#chapter3)"
   ]
  },
  {
   "cell_type": "code",
   "execution_count": null,
   "id": "927afd94",
   "metadata": {},
   "outputs": [],
   "source": [
    "# Import libraries\n",
    "\n"
   ]
  },
  {
   "cell_type": "markdown",
   "id": "cd7e8030",
   "metadata": {},
   "source": [
    "# <span style=\"color:blue\">Exercise 1 - Person authentication by binary iris pattern (50pt)  <a class=\"anchor\" id=\"chapter1\"></a></span>\n",
    "\n",
    "\n",
    "On Brightspace, you will find the file **lab1-data_Irisrecognition.zip**, which contains the iris codes of different persons. The file named $\\textit{person01.mat}$ to $ \\textit{person20.mat}$ contains a two-dimensional binary array of 20 rows, in which each row is a 30-dimensional binary iris code extracted from an iris image of a person. If you take a closer look at the rows of one such array, you will notice that two rows can differ in only a few positions (bits); If you compare two rows that come from two different files $person[i]$ and $ person[j]$, you will notice that two such iris codes differ in about 15 positions."
   ]
  },
  {
   "cell_type": "markdown",
   "id": "6141883e",
   "metadata": {},
   "source": [
    "## Part 1 - Distribution of authentics and imposters (20pt) <a class=\"anchor\" id=\"section_1_1\"></a></span>\n"
   ]
  },
  {
   "cell_type": "markdown",
   "id": "13fad0bf",
   "metadata": {},
   "source": [
    "Compute two sets S and D of 10000 normalized Hamming Distance (HD) as follows:\n",
    "\n",
    "<ol>\n",
    "<li> <b> For set S: </b> Choose randomly one person and randomly two iris codes (rows) from that person. Compute the normalized HD of the iris codes from these two rows. Repeat this process 10000 times to obtain 10000 such normalized HD values. </li>\n",
    "<br>\n",
    "\n",
    "<li> <b>For set D: </b> Choose randomly two different persons and randomly one row from each of these two persons. Compute the normalized HD of these two iris codes from these two different persons. Repeat this process 10000 times to obtain 10000 such normalized HD values. </li>\n",
    "\n",
    "</ol>"
   ]
  },
  {
   "cell_type": "markdown",
   "id": "4cd68806",
   "metadata": {},
   "source": [
    "<span style=\"color:blue\"> **(10 pt) (A)** </span> **Plot the histograms of Set S and D in one figure with different colors. Make sure to use bins of the same size for the two histograms and to use an appropriate number of bins.**\n",
    "\n",
    "<hr>"
   ]
  },
  {
   "cell_type": "code",
   "execution_count": null,
   "id": "c6cb76e1",
   "metadata": {},
   "outputs": [],
   "source": [
    "# Compute Set S...\n",
    "\n"
   ]
  },
  {
   "cell_type": "code",
   "execution_count": null,
   "id": "996b939f",
   "metadata": {},
   "outputs": [],
   "source": [
    "# Compute set D...\n",
    "\n"
   ]
  },
  {
   "cell_type": "code",
   "execution_count": null,
   "id": "6d12c75d",
   "metadata": {},
   "outputs": [],
   "source": [
    "# Plot histograms of Set S and D...\n",
    "\n"
   ]
  },
  {
   "cell_type": "markdown",
   "id": "a74cdc54",
   "metadata": {},
   "source": [
    "<span style=\"color:blue\">  **(5 pt) (B)** </span> **Compute the mean and the variance of the set S and D and specify their values.**\n",
    "\n",
    "<hr>"
   ]
  },
  {
   "cell_type": "code",
   "execution_count": null,
   "id": "46887817",
   "metadata": {},
   "outputs": [],
   "source": [
    "# Compute mean and variance...\n",
    "\n"
   ]
  },
  {
   "cell_type": "markdown",
   "id": "ed10042b",
   "metadata": {},
   "source": [
    "<span style=\"color:blue\">  **(5 pt) (C)** </span> **Draw the normal distributions (Gaussian functions), that correspond to the means and variances calculated above, to the histograms of Set S and D. Find an appropriate way to scale the normal distribution curves so that they fit well the histograms.**\n",
    "\n",
    "<hr>"
   ]
  },
  {
   "cell_type": "code",
   "execution_count": null,
   "id": "e06d0adb",
   "metadata": {},
   "outputs": [],
   "source": [
    "# Plot the distributions...\n",
    "\n"
   ]
  },
  {
   "cell_type": "markdown",
   "id": "9ff36bfb",
   "metadata": {},
   "source": [
    "## Part 2 - Person authentication (30pt) <a class=\"anchor\" id=\"section_1_2\"></a></span>\n"
   ]
  },
  {
   "cell_type": "markdown",
   "id": "e41f01d6",
   "metadata": {},
   "source": [
    "The distribution associated with the set S is the class-conditional probability density function that we measure a given HD value for two iris codes of the same person. The distribution associated with the set D is the class-conditional probability density function that we measure a given HD value for two iris codes of two different persons.\n",
    "\n",
    "Our Null-hypothesis $\\textit{H0}$ is that two iris patterns are different. We choose a value\n",
    "for the decision criterion $\\textit{d}$ and compare the HD of two iris patterns to d. If $ \\textit{HD > d}$, we consider this as confirmation of our assumption that the two iris codes are different; If $\\textit{HD < d}$, we consider our assumption that the two iris codes are different is not confirmed, i.e., implicitly we accept that they come from the same person."
   ]
  },
  {
   "cell_type": "markdown",
   "id": "28fe7985",
   "metadata": {},
   "source": [
    "<span style=\"color:blue\">  **(5 pt) (A)** </span> **Estimate the value of the decision criterion d for which the probability of accepting an imposter is 0.0005. This situation will occur when the HD between the iris codes of two different persons is smaller than the decision criterion d. You can use the python function $scipy.stats.norm.ppf$ to find such decision criterion.**\n",
    "\n",
    "<hr>"
   ]
  },
  {
   "cell_type": "code",
   "execution_count": null,
   "id": "43c257df",
   "metadata": {},
   "outputs": [],
   "source": [
    "# Estimate the decision criterion d...\n",
    "\n"
   ]
  },
  {
   "cell_type": "markdown",
   "id": "b1dd9092",
   "metadata": {},
   "source": [
    "<span style=\"color:blue\">  **(5 pt) (B)** </span> **For the value of the decision criterion calculated above, determine the probability of rejecting an authentic person. For this purpose, use a normal distribution to model Set S and find the value of the integral in the tail of this distribution for values HD > d. You can use the python function $scipy.stats.norm.cdf$ to compute such a probability.**\n",
    "\n",
    "<hr>"
   ]
  },
  {
   "cell_type": "code",
   "execution_count": null,
   "id": "5251c582",
   "metadata": {},
   "outputs": [],
   "source": [
    "# Determine the probability of...\n",
    "\n"
   ]
  },
  {
   "cell_type": "markdown",
   "id": "5ae240a8",
   "metadata": {},
   "source": [
    "<span style=\"color:blue\">  **(15 pt) (C)** </span> **Consider the iris code given in the file $\\textit{testperson.mat}$. This file contains an iris code with some missing bits. These missing bits have the value 2 instead of 0 or 1. To which of the 20 persons whose iris codes are stored in files $person01.mat$ to $person20.mat$ does this iris code most likely belong to?**\n",
    "\n",
    "<hr>"
   ]
  },
  {
   "cell_type": "code",
   "execution_count": null,
   "id": "4c549a4a",
   "metadata": {},
   "outputs": [],
   "source": [
    "\n",
    "\n"
   ]
  },
  {
   "cell_type": "markdown",
   "id": "46d8b8be",
   "metadata": {},
   "source": [
    "<span style=\"color:blue\"> **(5 pt) (D)** </span> **What is the significance level of your decision? $Hint:$ Excluding the bits with a value of 2, denote by HDt the normalized Hamming distance between the iris code of the test person and the iris code of the person that you identified in the data set. The significance level which corresponds to HDt is defined as the probability that the comparison of the iris code of the test person with the iris code of a different person will result in a HD such that HD ≤ HDt, i.e., the concerned significance level is equal to the integral of the tail of the distribution for HD ≤ HDt. To compute its value, make use of the theoretical expression for the parameters of the normal distribution of the normalized iris code HD for the given number of available (i.e., non-missing) bits.**\n",
    "\n",
    "\n",
    "<hr>"
   ]
  },
  {
   "cell_type": "code",
   "execution_count": null,
   "id": "2e7d49f1",
   "metadata": {},
   "outputs": [],
   "source": [
    "\n",
    "\n"
   ]
  },
  {
   "cell_type": "markdown",
   "id": "c4424bf7",
   "metadata": {},
   "source": [
    "<hr>"
   ]
  },
  {
   "cell_type": "markdown",
   "id": "9e2eb844",
   "metadata": {},
   "source": [
    "# <span style=\"color:blue\">Exercise 2 - Image matching using SIFT (50pt)  <a class=\"anchor\" id=\"chapter2\"></a></span>"
   ]
  },
  {
   "cell_type": "markdown",
   "id": "d1f2dfbc",
   "metadata": {},
   "source": [
    "You are given two images named $a.jpg$ and $b.jpg$ that contain the same scene taken from different views. Use SIFT algorithm to identify key points in both the images and perform image matching based on the obtained descriptors."
   ]
  },
  {
   "cell_type": "markdown",
   "id": "c90d0e80",
   "metadata": {},
   "source": [
    "<span style=\"color:blue\"> **(10 pt) (A)** </span> **Describe briefly how the SIFT and SURF algorithms work.**\n",
    "\n",
    "<hr>"
   ]
  },
  {
   "cell_type": "markdown",
   "id": "9014a95b",
   "metadata": {},
   "source": [
    "\n",
    "\n",
    "\n"
   ]
  },
  {
   "cell_type": "markdown",
   "id": "c34f350c",
   "metadata": {},
   "source": [
    "\n",
    "\n"
   ]
  },
  {
   "cell_type": "markdown",
   "id": "13bce00f",
   "metadata": {},
   "source": [
    "<span style=\"color:blue\"> **(10 pt) (B)** </span>  **Display the two images and the corresponding key points identified by SIFT detector. You can use the built-in functions from $opencv$ to get and display the key points.**\n",
    "\n",
    "<hr>"
   ]
  },
  {
   "cell_type": "code",
   "execution_count": null,
   "id": "28bc3022",
   "metadata": {},
   "outputs": [],
   "source": [
    "\n",
    "\n"
   ]
  },
  {
   "cell_type": "markdown",
   "id": "e1c89db3",
   "metadata": {},
   "source": [
    "<span style=\"color:blue\"> **(30 pt) (C)** </span> **Match the obtained descriptors in the two images and display the results that draw lines between the matched descriptors from the two images. You can use the built-in functions from $opencv$ to get and display the results for image matching.**\n",
    "\n",
    "<hr>"
   ]
  },
  {
   "cell_type": "code",
   "execution_count": null,
   "id": "139ecf43",
   "metadata": {},
   "outputs": [],
   "source": [
    "\n",
    "\n",
    "\n"
   ]
  },
  {
   "cell_type": "markdown",
   "id": "ce2ec400",
   "metadata": {},
   "source": [
    "# <span style=\"color:blue\">Contributions<a class=\"anchor\" id=\"chapter3\"></a></span>"
   ]
  },
  {
   "cell_type": "markdown",
   "id": "8ea834fc",
   "metadata": {},
   "source": [
    "\n",
    "\n",
    "\n"
   ]
  }
 ],
 "metadata": {
  "kernelspec": {
   "display_name": "Python 3.9.13 64-bit (microsoft store)",
   "language": "python",
   "name": "python3"
  },
  "language_info": {
   "codemirror_mode": {
    "name": "ipython",
    "version": 3
   },
   "file_extension": ".py",
   "mimetype": "text/x-python",
   "name": "python",
   "nbconvert_exporter": "python",
   "pygments_lexer": "ipython3",
   "version": "3.9.13"
  },
  "vscode": {
   "interpreter": {
    "hash": "8015f9acacd7b173abf91f45fd028e06efb6bca2daa66f9eadc51a4b30d2aafc"
   }
  }
 },
 "nbformat": 4,
 "nbformat_minor": 5
}
